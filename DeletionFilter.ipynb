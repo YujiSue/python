{
  "nbformat": 4,
  "nbformat_minor": 0,
  "metadata": {
    "colab": {
      "name": "DeletionFilter.ipynb",
      "provenance": [],
      "collapsed_sections": [],
      "include_colab_link": true
    },
    "kernelspec": {
      "name": "python3",
      "display_name": "Python 3"
    },
    "accelerator": "GPU"
  },
  "cells": [
    {
      "cell_type": "markdown",
      "metadata": {
        "id": "view-in-github",
        "colab_type": "text"
      },
      "source": [
        "<a href=\"https://colab.research.google.com/github/YujiSue/python/blob/master/DeletionFilter.ipynb\" target=\"_parent\"><img src=\"https://colab.research.google.com/assets/colab-badge.svg\" alt=\"Open In Colab\"/></a>"
      ]
    },
    {
      "cell_type": "code",
      "metadata": {
        "id": "Uu-QWaJEpof7",
        "colab_type": "code",
        "colab": {}
      },
      "source": [
        "from google.colab import drive\n",
        "drive.mount('/content/drive')"
      ],
      "execution_count": null,
      "outputs": []
    },
    {
      "cell_type": "code",
      "metadata": {
        "id": "MpPdWktv2Ecx",
        "colab_type": "code",
        "colab": {}
      },
      "source": [
        "import numpy as np\n",
        "import pandas as pd\n",
        "import scipy as sp\n",
        "from scipy import stats\n",
        "\n",
        "import matplotlib.pyplot as plt\n",
        "from sklearn.linear_model import LinearRegression\n",
        "from sklearn.linear_model import LogisticRegression\n",
        "from sklearn.tree import DecisionTreeClassifier\n",
        "from sklearn.neighbors import KNeighborsClassifier\n",
        "from sklearn.ensemble import RandomForestClassifier\n",
        "from sklearn.discriminant_analysis import LinearDiscriminantAnalysis\n",
        "from sklearn.naive_bayes import GaussianNB\n",
        "from sklearn.svm import SVC\n",
        "from sklearn.decomposition import PCA\n",
        "from sklearn.metrics import classification_report,accuracy_score,confusion_matrix\n",
        "\n",
        "raw = pd.read_csv('train.csv', sep=',')\n",
        "raw.head()\n",
        "factor = raw[['AbsPos', 'LogLen', 'Ins', 'Copy', 'Diff','Freq', 'TotalSR', 'ReadBias']]\n",
        "label = raw[['Label']].values.ravel()\n",
        "\n",
        "test = pd.read_csv('test.csv', sep=',')\n",
        "test.head()\n",
        "test_factor = test[['AbsPos', 'LogLen', 'Ins', 'Copy', 'Diff','Freq', 'TotalSR', 'ReadBias']]\n",
        "test_label = test[['Label']].values.ravel()"
      ],
      "execution_count": null,
      "outputs": []
    },
    {
      "cell_type": "code",
      "metadata": {
        "id": "abLXTeDOk1c6",
        "colab_type": "code",
        "colab": {}
      },
      "source": [
        "pca = PCA()\n",
        "pca.fit(raw)\n",
        "feature = pca.transform(raw)\n",
        "print(pca.get_params())\n",
        "print(pca.get_precision())\n",
        "plt.scatter(feature[:, 0], feature[:, 1], alpha=0.5)\n",
        "plt.title(\"Principal Component Analysis\")\n",
        "plt.xlabel(\"The first principal component\")\n",
        "plt.ylabel(\"The second principal component\")\n",
        "plt.grid()\n",
        "plt.show()"
      ],
      "execution_count": null,
      "outputs": []
    },
    {
      "cell_type": "code",
      "metadata": {
        "id": "Dn7Ig6TXh5XM",
        "colab_type": "code",
        "colab": {}
      },
      "source": [
        "logr = LogisticRegression()\n",
        "logr.fit(factor, label)\n",
        "print('LogisticRegression:',logr.score(factor, label))\n",
        "\n",
        "dt = DecisionTreeClassifier()\n",
        "dt.fit(factor, label)\n",
        "print('DecisionTree:',dt.score(factor, label))\n",
        "\n",
        "kn = KNeighborsClassifier()\n",
        "kn.fit(factor, label)\n",
        "print('KNeighbors:',kn.score(factor, label))\n",
        "\n",
        "rf = RandomForestClassifier()\n",
        "rf.fit(factor, label)\n",
        "print('RandomForest:',rf.score(factor, label))\n",
        "\n",
        "lda = LinearDiscriminantAnalysis()\n",
        "lda.fit(factor, label)\n",
        "print('LinearDiscriminant:',lda.score(factor, label))\n",
        "\n",
        "nb = GaussianNB()\n",
        "nb.fit(factor, label)\n",
        "print('GaussianNB:',nb.score(factor, label))\n",
        "\n",
        "svc = SVC(kernel=\"linear\")\n",
        "svc.fit(factor, label)\n",
        "print('SVC:',svc.score(factor, label))\n",
        "\n"
      ],
      "execution_count": null,
      "outputs": []
    },
    {
      "cell_type": "code",
      "metadata": {
        "id": "HDH4fOUme-B6",
        "colab_type": "code",
        "colab": {}
      },
      "source": [
        "print('Method,LogisticRegression,DecisionTree,KNeighbors,RandomForest,LinearDiscrimination,NaiveBayes,SupportVectorMachine')\n",
        "print('Training,',logr.score(factor, label),',',dt.score(factor, label),',',kn.score(factor, label),',',rf.score(factor, label),',',lda.score(factor, label),',',nb.score(factor, label),',',svc.score(factor, label))\n",
        "print('Test,',logr.score(test_factor, test_label),',',dt.score(test_factor, test_label),',',kn.score(test_factor, test_label),',',rf.score(test_factor, test_label),',',lda.score(test_factor, test_label),',',nb.score(test_factor, test_label),',',svc.score(test_factor, test_label))\n",
        "print('Prediction:')\n",
        "\n",
        "logr_pred = list(logr.predict(test_factor))\n",
        "dt_pred = list(dt.predict(test_factor))\n",
        "kn_pred = list(kn.predict(test_factor))\n",
        "rf_pred = list(rf.predict(test_factor))\n",
        "lda_pred = list(lda.predict(test_factor))\n",
        "nb_pred = list(nb.predict(test_factor))\n",
        "svc_pred = list(svc.predict(test_factor))\n",
        "\n",
        "for i in range(0,len(logr_pred)) :\n",
        "  print(i,',',logr_pred[i],',',dt_pred[i],',',kn_pred[i],',',rf_pred[i],',',lda_pred[i],',',nb_pred[i],',',svc_pred[i])\n"
      ],
      "execution_count": null,
      "outputs": []
    }
  ]
}